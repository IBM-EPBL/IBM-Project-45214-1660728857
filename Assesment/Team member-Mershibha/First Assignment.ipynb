{
 "cells": [
  {
   "cell_type": "markdown",
   "id": "057de34b",
   "metadata": {},
   "source": [
    "1.Write a python program to text a given number is prime or not?"
   ]
  },
  {
   "cell_type": "code",
   "execution_count": 2,
   "id": "448b079a",
   "metadata": {},
   "outputs": [
    {
     "name": "stdout",
     "output_type": "stream",
     "text": [
      "Enter the number67\n",
      "Number is prime\n"
     ]
    }
   ],
   "source": [
    "n=int(input(\"Enter the number\"))\n",
    "c=1\n",
    "for i in range(2,n):\n",
    "    if n%i==0:\n",
    "        c=0\n",
    "if c==1:\n",
    "    print(\"Number is prime\")\n",
    "else:\n",
    "    print(\"Number is not prime\")"
   ]
  },
  {
   "cell_type": "markdown",
   "id": "112ffdd1",
   "metadata": {},
   "source": [
    "2.Write a program  to generate odd numbers from m to n using while loop "
   ]
  },
  {
   "cell_type": "code",
   "execution_count": 16,
   "id": "24c8a396",
   "metadata": {},
   "outputs": [
    {
     "name": "stdout",
     "output_type": "stream",
     "text": [
      " Please Enter any Minimum Value : 3\n",
      " Please Enter any Maximum Value : 13\n",
      "3\n",
      "5\n",
      "7\n",
      "9\n",
      "11\n",
      "13\n"
     ]
    }
   ],
   "source": [
    "minimum=int(input(\" Please Enter any Minimum Value : \"))\n",
    "maximum = int(input(\" Please Enter any Maximum Value : \"))\n",
    "for number in range(minimum, maximum + 1, 2):\n",
    "    print(\"{0}\".format(number))"
   ]
  },
  {
   "cell_type": "raw",
   "id": "fa0748b6",
   "metadata": {},
   "source": [
    "3.Write a python program to display prime number series up to given number"
   ]
  },
  {
   "cell_type": "code",
   "execution_count": 17,
   "id": "19c6de58",
   "metadata": {},
   "outputs": [
    {
     "name": "stdout",
     "output_type": "stream",
     "text": [
      "Enter the min : 1\n",
      "Enter the max : 10\n",
      "2\n",
      "3\n",
      "5\n",
      "7\n"
     ]
    }
   ],
   "source": [
    "min = int(input(\"Enter the min : \"))\n",
    "max = int(input(\"Enter the max : \"))\n",
    "for n in range(min,max + 1):\n",
    "   if n > 1:\n",
    "       for i in range(2,n):\n",
    "           if (n % i) == 0:\n",
    "               break\n",
    "       else:\n",
    "           print(n)"
   ]
  },
  {
   "cell_type": "markdown",
   "id": "e830bae2",
   "metadata": {},
   "source": [
    "4.Write a python program to generate Fibonacci series."
   ]
  },
  {
   "cell_type": "code",
   "execution_count": 19,
   "id": "58aa38ab",
   "metadata": {},
   "outputs": [
    {
     "name": "stdout",
     "output_type": "stream",
     "text": [
      "How many terms? 10\n",
      "Fibonacci sequence:\n",
      "0\n",
      "1\n",
      "1\n",
      "2\n",
      "3\n",
      "5\n",
      "8\n",
      "13\n",
      "21\n",
      "34\n"
     ]
    }
   ],
   "source": [
    "n = int(input(\"How many terms? \"))\n",
    "a, b= 0, 1\n",
    "count = 0\n",
    "if n<= 0:\n",
    "   print(\"Please enter a positive integer\")\n",
    "elif n == 1:\n",
    "   print(\"Fibonacci sequence upto\",n,\":\")\n",
    "   print(a)\n",
    "else:\n",
    "   print(\"Fibonacci sequence:\")\n",
    "   while count < n:\n",
    "       print(a)\n",
    "       nth = a + b\n",
    "       a = b\n",
    "       b = nth\n",
    "       count += 1"
   ]
  },
  {
   "cell_type": "code",
   "execution_count": null,
   "id": "0b036db5",
   "metadata": {},
   "outputs": [],
   "source": []
  }
 ],
 "metadata": {
  "kernelspec": {
   "display_name": "Python 3 (ipykernel)",
   "language": "python",
   "name": "python3"
  },
  "language_info": {
   "codemirror_mode": {
    "name": "ipython",
    "version": 3
   },
   "file_extension": ".py",
   "mimetype": "text/x-python",
   "name": "python",
   "nbconvert_exporter": "python",
   "pygments_lexer": "ipython3",
   "version": "3.9.12"
  }
 },
 "nbformat": 4,
 "nbformat_minor": 5
}
