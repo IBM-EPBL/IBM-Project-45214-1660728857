{
 "cells": [
  {
   "cell_type": "markdown",
   "id": "b1452b70",
   "metadata": {},
   "source": [
    "Program 1\n",
    "Write a python program to test a given number is prime or not"
   ]
  },
  {
   "cell_type": "code",
   "execution_count": 2,
   "id": "f452f733",
   "metadata": {},
   "outputs": [
    {
     "name": "stdout",
     "output_type": "stream",
     "text": [
      "Enter an number:1\n",
      "1 is not a prime number\n"
     ]
    }
   ],
   "source": [
    "def Prime(a):  \n",
    "    if a > 1:  \n",
    "        for j in range(2, int(a/2) + 1):  \n",
    "            if (a % j) == 0:  \n",
    "                print(a, \"is not a prime number\")  \n",
    "                break   \n",
    "        else:  \n",
    "            print(a, \"is a prime number\")  \n",
    "    else:  \n",
    "        print(a, \"is not a prime number\")    \n",
    "a = int(input(\"Enter an number:\"))    \n",
    "Prime(a)  "
   ]
  },
  {
   "cell_type": "markdown",
   "id": "e245c771",
   "metadata": {},
   "source": [
    "Program 2\n",
    "Write a program to generate odd numbers from m to n using while loop"
   ]
  },
  {
   "cell_type": "code",
   "execution_count": 5,
   "id": "c896dff4",
   "metadata": {},
   "outputs": [
    {
     "name": "stdout",
     "output_type": "stream",
     "text": [
      " Enter the First Value : 4\n",
      " Enter the last Value : 15\n",
      "5\n",
      "7\n",
      "9\n",
      "11\n",
      "13\n",
      "15\n"
     ]
    }
   ],
   "source": [
    "m = int(input(\" Enter the First Value : \"))\n",
    "n = int(input(\" Enter the last Value : \")) \n",
    "num = m\n",
    " \n",
    "while num <=n:\n",
    "    if(num % 2 != 0):\n",
    "        print(\"{0}\".format(num))\n",
    "    num = num + 1"
   ]
  },
  {
   "cell_type": "markdown",
   "id": "478516e8",
   "metadata": {},
   "source": [
    "Progarm 3\n",
    "Write a python program to display prime number series up to given number"
   ]
  },
  {
   "cell_type": "code",
   "execution_count": 6,
   "id": "fca47dc4",
   "metadata": {},
   "outputs": [
    {
     "name": "stdout",
     "output_type": "stream",
     "text": [
      "Enter first value: 3\n",
      "Enter last value: 25\n",
      "Prime numbers  are:\n",
      "3\n",
      "5\n",
      "7\n",
      "11\n",
      "13\n",
      "17\n",
      "19\n",
      "23\n"
     ]
    }
   ],
   "source": [
    "def prime(n):\n",
    "    if n< 2:\n",
    "        return False\n",
    "    \n",
    "    for i in range(2,n):\n",
    "        if n%i == 0:\n",
    "            return False\n",
    "\n",
    "    return True\n",
    "a = int(input('Enter first value: '))\n",
    "b = int(input('Enter last value: '))\n",
    "print('Prime numbers  are:')\n",
    "for i in range(a, b+1):\n",
    "    if prime(i):\n",
    "        print(i)"
   ]
  },
  {
   "cell_type": "markdown",
   "id": "20ff9515",
   "metadata": {},
   "source": [
    "Program 4\n",
    "Write a python program to generate Fibonacci series"
   ]
  },
  {
   "cell_type": "code",
   "execution_count": 8,
   "id": "b91bd331",
   "metadata": {},
   "outputs": [
    {
     "name": "stdout",
     "output_type": "stream",
     "text": [
      "Enter any number: 7\n",
      "Fibonacci sequence:\n",
      "0\n",
      "1\n",
      "1\n",
      "2\n",
      "3\n",
      "5\n",
      "8\n"
     ]
    }
   ],
   "source": [
    "def fibo(n):\n",
    "   if n <= 1:\n",
    "       return n\n",
    "   else:\n",
    "       return(fibo(n-1) + fibo(n-2))\n",
    "\n",
    "a = int(input(\"Enter any number: \"))\n",
    "if a <= 0:\n",
    "   print(\"Please enter a positive integer\")\n",
    "else:\n",
    "   print(\"Fibonacci sequence:\")\n",
    "   for i in range(a):\n",
    "       print(fibo(i))"
   ]
  }
 ],
 "metadata": {
  "kernelspec": {
   "display_name": "Python 3 (ipykernel)",
   "language": "python",
   "name": "python3"
  },
  "language_info": {
   "codemirror_mode": {
    "name": "ipython",
    "version": 3
   },
   "file_extension": ".py",
   "mimetype": "text/x-python",
   "name": "python",
   "nbconvert_exporter": "python",
   "pygments_lexer": "ipython3",
   "version": "3.9.12"
  }
 },
 "nbformat": 4,
 "nbformat_minor": 5
}
